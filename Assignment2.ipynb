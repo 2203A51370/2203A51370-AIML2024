{
  "nbformat": 4,
  "nbformat_minor": 0,
  "metadata": {
    "colab": {
      "provenance": []
    },
    "kernelspec": {
      "name": "python3",
      "display_name": "Python 3"
    },
    "language_info": {
      "name": "python"
    }
  },
  "cells": [
    {
      "cell_type": "code",
      "execution_count": null,
      "metadata": {
        "id": "FGSVZA7FLjyH"
      },
      "outputs": [],
      "source": []
    },
    {
      "cell_type": "markdown",
      "source": [
        "To implement Breadth first search Algorithm using a queue.\n",
        "\n"
      ],
      "metadata": {
        "id": "naSV6YN_L5jw"
      }
    },
    {
      "cell_type": "markdown",
      "source": [],
      "metadata": {
        "id": "m-p08qQEL1yD"
      }
    },
    {
      "cell_type": "code",
      "source": [
        "from queue import Queue\n",
        "\n",
        "graph = {0: [1,3], 1:[0,2,3], 2:[4,1,5], 3:[4,0,1], 4:[2,3,5], 5:[2,4], 6:[]}\n",
        "print(\"The Adjacency List Representing the graph is:\")\n",
        "print(graph)\n",
        "\n",
        "def bfs(graph, source):\n",
        "    Q = Queue()\n",
        "    visited_vertices = set()\n",
        "    Q.put(source)\n",
        "    visited_vertices.update({0})\n",
        "    while not Q.empty():\n",
        "      vertex = Q.get()\n",
        "      print(vertex, end=\"-->\")\n",
        "      for u in graph[vertex]:\n",
        "        if u not in visited_vertices:\n",
        "          Q.put(u)\n",
        "          visited_vertices.update({u})\n",
        "print(\"BFS traversal of graph with source 0 is:\")\n",
        "bfs(graph, 0)"
      ],
      "metadata": {
        "colab": {
          "base_uri": "https://localhost:8080/"
        },
        "id": "PjDnFbPDPgkw",
        "outputId": "1b5474f8-1710-478e-e320-24dae6699afd"
      },
      "execution_count": 3,
      "outputs": [
        {
          "output_type": "stream",
          "name": "stdout",
          "text": [
            "The Adjacency List Representing the graph is:\n",
            "{0: [1, 3], 1: [0, 2, 3], 2: [4, 1, 5], 3: [4, 0, 1], 4: [2, 3, 5], 5: [2, 4], 6: []}\n",
            "BFS traversal of graph with source 0 is:\n",
            "0-->1-->3-->2-->4-->5-->"
          ]
        }
      ]
    },
    {
      "cell_type": "markdown",
      "source": [
        "Implement Deapth First Search Algorithm using Stack.\n",
        "\n"
      ],
      "metadata": {
        "id": "cbYVfpbFULzz"
      }
    },
    {
      "cell_type": "code",
      "source": [
        "graph1 ={\n",
        "    'A':['B','S'],\n",
        "    'B' :['A'],\n",
        "    'C' :['D','E','F','S'],\n",
        "    'D' :['C'],\n",
        "    'E' :['C','H'],\n",
        "    'F' :['C','G'],\n",
        "    'G' :['F','S', 'H'],\n",
        "    'H' :['E','G'],\n",
        "    'S' :['A','C','G'],\n",
        "}\n",
        "def dfs(graph,node,visited):\n",
        "  if node not in visited:\n",
        "    visited.append(node)\n",
        "    for k in graph[node]:\n",
        "      dfs(graph,k,visited)\n",
        "  return visited\n",
        "visited=dfs(graph1,'D',[])\n",
        "print(visited)"
      ],
      "metadata": {
        "colab": {
          "base_uri": "https://localhost:8080/"
        },
        "id": "bse0YM2CUbv7",
        "outputId": "e12c1b5c-ef9e-4517-8db3-5297814076d0"
      },
      "execution_count": 8,
      "outputs": [
        {
          "output_type": "stream",
          "name": "stdout",
          "text": [
            "['D', 'C', 'E', 'H', 'G', 'F', 'S', 'A', 'B']\n"
          ]
        }
      ]
    }
  ]
}